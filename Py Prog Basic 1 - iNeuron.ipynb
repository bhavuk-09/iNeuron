{
 "cells": [
  {
   "cell_type": "markdown",
   "id": "cfad4324",
   "metadata": {},
   "source": [
    "# iNeuron Python Programming Basic Assignment -1"
   ]
  },
  {
   "cell_type": "code",
   "execution_count": 1,
   "id": "c59de8c2",
   "metadata": {},
   "outputs": [
    {
     "name": "stdout",
     "output_type": "stream",
     "text": [
      "Hello Python\n"
     ]
    }
   ],
   "source": [
    "# 1. Write a Python program to print \"Hello Python\"\n",
    "\n",
    "\n",
    "print(\"Hello Python\")"
   ]
  },
  {
   "cell_type": "code",
   "execution_count": 2,
   "id": "62e5c13a",
   "metadata": {},
   "outputs": [
    {
     "name": "stdout",
     "output_type": "stream",
     "text": [
      "10\n",
      "3\n",
      "Sum of a and b: 13\n",
      "Integer Divison of a by b is: 3\n",
      "Floating division of a by b is: 3.3333333333333335\n"
     ]
    }
   ],
   "source": [
    "# 2. Write a Python program to do arithmetical operations addition and division.?\n",
    "\n",
    "\n",
    "a=int(input())\n",
    "b=int(input())\n",
    "add=a+b\n",
    "integer_division=a//b\n",
    "floating_divison=a/b\n",
    "print(\"Sum of a and b:\", add)\n",
    "print(\"Integer Divison of a by b is:\", integer_division)\n",
    "print(\"Floating division of a by b is:\",floating_divison)"
   ]
  },
  {
   "cell_type": "code",
   "execution_count": 7,
   "id": "b6a82cb0",
   "metadata": {},
   "outputs": [
    {
     "name": "stdout",
     "output_type": "stream",
     "text": [
      "Enter length of base of the triangle:5\n",
      "Enter height of the triangle:3\n",
      "Area of triangle with base 5.0 and height 3.0 is 7.5\n"
     ]
    }
   ],
   "source": [
    "# 3. Write a Python program to find the area of a triangle?\n",
    "\n",
    "\n",
    "b=float(input(\"Enter length of base of the triangle:\"))\n",
    "h=float(input(\"Enter height of the triangle:\"))\n",
    "area= (b*h)/2\n",
    "print(\"Area of triangle with base\", b, \"and height\",h, \"is\", area)"
   ]
  },
  {
   "cell_type": "code",
   "execution_count": 14,
   "id": "7ddecea3",
   "metadata": {},
   "outputs": [
    {
     "name": "stdout",
     "output_type": "stream",
     "text": [
      "a=5\n",
      "b=6\n",
      "Before swap a= 5 b= 6\n",
      "After  swap a= 6 b= 5\n"
     ]
    }
   ],
   "source": [
    "# 4. Write a Python program to swap two variables?\n",
    "\n",
    "a = int (input(\"a=\"))\n",
    "b = int (input(\"b=\"))\n",
    "print(\"Before swap a=\",a,\"b=\",b)\n",
    "temp=a\n",
    "a=b\n",
    "b=temp\n",
    "print(\"After  swap a=\",a,\"b=\",b)"
   ]
  },
  {
   "cell_type": "code",
   "execution_count": 21,
   "id": "7bbfb53c",
   "metadata": {},
   "outputs": [
    {
     "name": "stdout",
     "output_type": "stream",
     "text": [
      "24\n",
      "78\n",
      "Random number between 24 and 78 is 32\n"
     ]
    }
   ],
   "source": [
    "# 5. Write a Python program to generate a random number?\n",
    "\n",
    "import random\n",
    "a=int(input())\n",
    "b=int(input())\n",
    "n = random.randint(a,b)  \n",
    "print(f\"Random number between {a} and {b} is\",n)  "
   ]
  }
 ],
 "metadata": {
  "kernelspec": {
   "display_name": "Python 3 (ipykernel)",
   "language": "python",
   "name": "python3"
  },
  "language_info": {
   "codemirror_mode": {
    "name": "ipython",
    "version": 3
   },
   "file_extension": ".py",
   "mimetype": "text/x-python",
   "name": "python",
   "nbconvert_exporter": "python",
   "pygments_lexer": "ipython3",
   "version": "3.9.7"
  }
 },
 "nbformat": 4,
 "nbformat_minor": 5
}
