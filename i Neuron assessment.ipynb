{
 "cells": [
  {
   "cell_type": "markdown",
   "id": "6c1a4636",
   "metadata": {},
   "source": [
    "# Function in python to read the text file and replace specific content of the file."
   ]
  },
  {
   "cell_type": "code",
   "execution_count": null,
   "id": "959d80bd",
   "metadata": {},
   "outputs": [],
   "source": [
    "def replace_content(original_word, replaced_word):\n",
    "    f= open(\"example.txt\",\"r\")\n",
    "    data= f.read()\n",
    "    data= data.replace(original_word,replaced_word)\n",
    "    f.close()\n",
    "\n",
    "    f= open(\"example.txt\",\"w\")\n",
    "    f.write(data)\n",
    "    f.close()\n",
    "    \n",
    "#replace_content(\"placement\",\"screening\")                    # Hardcoded Input\n",
    "replace_content(input(),input()) "
   ]
  },
  {
   "cell_type": "markdown",
   "id": "a4d44ae5",
   "metadata": {},
   "source": [
    "# use of abstract class, multiple inheritance and decorator using examples"
   ]
  },
  {
   "cell_type": "code",
   "execution_count": 21,
   "id": "f3a91049",
   "metadata": {},
   "outputs": [
    {
     "name": "stdout",
     "output_type": "stream",
     "text": [
      "I'm Lily from Nursery\n",
      "I'm Lotus from a Lake\n",
      "     I have a Pink color\n",
      "     My friend,Lily, has a Red color\n"
     ]
    }
   ],
   "source": [
    "#Abstract Class garden having abstract method flower\n",
    "from abc import abstractmethod\n",
    "class garden():                                     # Abstract Class : Garden \n",
    "    @abstractmethod                                 # This is a Decorator\n",
    "    def flower(self):\n",
    "        pass\n",
    "    def color(self):\n",
    "        return(\"Pink\")\n",
    "    \n",
    "class nursery():\n",
    "    def flower(self):\n",
    "        print(\"I'm Lily from Nursery\")\n",
    "    def color(self):\n",
    "        return(\"Red\")\n",
    "                             \n",
    "class lake(garden,nursery):             # Multiple Inheritence ( Inheriting from more than 1 class, garden and nursery )\n",
    "    def flower(self):\n",
    "        print(\"I'm Lotus from a Lake\")\n",
    "        print(\"     I have a\",garden.color(0),\"color\") \n",
    "        print(\"     My friend,Lily, has a\" ,nursery.color(0), \"color\") \n",
    "\n",
    "n=nursery()\n",
    "n.flower()\n",
    "\n",
    "l=lake()\n",
    "l.flower()\n",
    "\n",
    "    \n",
    "    "
   ]
  },
  {
   "cell_type": "code",
   "execution_count": null,
   "id": "a3b50790",
   "metadata": {},
   "outputs": [],
   "source": []
  }
 ],
 "metadata": {
  "kernelspec": {
   "display_name": "Python 3 (ipykernel)",
   "language": "python",
   "name": "python3"
  },
  "language_info": {
   "codemirror_mode": {
    "name": "ipython",
    "version": 3
   },
   "file_extension": ".py",
   "mimetype": "text/x-python",
   "name": "python",
   "nbconvert_exporter": "python",
   "pygments_lexer": "ipython3",
   "version": "3.9.7"
  }
 },
 "nbformat": 4,
 "nbformat_minor": 5
}
